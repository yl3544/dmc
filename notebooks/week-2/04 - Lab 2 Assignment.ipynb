{
 "cells": [
  {
   "cell_type": "markdown",
   "metadata": {},
   "source": [
    "## Lab 2 assignment\n",
    "\n",
    "This assignment will get you familiar with the basic elements of Python by programming a simple card game. We will create a custom class to represent each player in the game, which will store information about their current pot, as well as a series of methods defining how they play the game. We will also build several functions to control the flow of the game and get data back at the end.\n",
    "\n",
    "We will start by importing the `'random'` library, which will allow us to use its functions for picking a random entry from a list."
   ]
  },
  {
   "cell_type": "code",
   "execution_count": null,
   "metadata": {
    "collapsed": true
   },
   "outputs": [],
   "source": [
    "import random"
   ]
  },
  {
   "cell_type": "markdown",
   "metadata": {},
   "source": [
    "First we will establish some general variables for our game, including the 'stake' of the game (how much money each play is worth), as well as a list representing the cards used in the game. To make things easier, we will just use a list of numbers 0-9 for the cards."
   ]
  },
  {
   "cell_type": "code",
   "execution_count": null,
   "metadata": {
    "collapsed": true
   },
   "outputs": [],
   "source": [
    "gameStake = 50  \n",
    "cards = range(10)"
   ]
  },
  {
   "cell_type": "markdown",
   "metadata": {},
   "source": [
    "Next, let's define a new class to represent each player in the game. I have provided a rough framework of the class definition along with comments along the way to help you complete it. Places where you should write code are denoted by comments inside [] brackets and CAPITAL TEXT."
   ]
  },
  {
   "cell_type": "code",
   "execution_count": null,
   "metadata": {
    "collapsed": false
   },
   "outputs": [],
   "source": [
    "class Player:\n",
    "    \n",
    "    # create here two local variables to store a unique ID for each player and the player's current 'pot' of money\n",
    "    # [FILL IN YOUR VARIABLES HERE]\n",
    "    \n",
    "    # in the __init__() function, use the two input variables to initialize the ID and starting pot of each player\n",
    "    \n",
    "    def __init__(self, inputID, startingPot):\n",
    "        # [CREATE YOUR INITIALIZATIONS HERE]\n",
    "        \n",
    "    # create a function for playing the game. This function starts by taking an input for the dealer's card\n",
    "    # and picking a random number from the 'cards' list for the player's card\n",
    "\n",
    "    def play(self, dealerCard):\n",
    "        # we use the random.choice() function to select a random item from a list\n",
    "        playerCard = random.choice(cards)\n",
    "        \n",
    "        # here we should have a conditional that tests the player's card value against the dealer card\n",
    "        # and returns a statement saying whether the player won or lost the hand\n",
    "        # before returning the statement, make sure to either add or subtract the stake from the player's pot so that\n",
    "        # the 'pot' variable tracks the player's money\n",
    "        \n",
    "        if playerCard < dealerCard:\n",
    "            # [INCREMENT THE PLAYER'S POT, AND RETURN A MESSAGE]\n",
    "        else:\n",
    "            # [INCREMENT THE PLAYER'S POT, AND RETURN A MESSAGE]\n",
    "        \n",
    "    # create an accessor function to return the current value of the player's pot\n",
    "    def returnPot(self):\n",
    "        # [FILL IN THE RETURN STATEMENT]\n",
    "        \n",
    "    # create an accessor function to return the player's ID\n",
    "    def returnID(self):\n",
    "        # [FILL IN THE RETURN STATEMENT]"
   ]
  },
  {
   "cell_type": "markdown",
   "metadata": {},
   "source": [
    "Next we will create some functions outside the class definition which will control the flow of the game. The first function will play one round. It will take as an input the collection of players, and iterate through each one, calling each player's '.play() function."
   ]
  },
  {
   "cell_type": "code",
   "execution_count": null,
   "metadata": {
    "collapsed": true
   },
   "outputs": [],
   "source": [
    "def playHand(players):\n",
    "    \n",
    "    for player in players:\n",
    "        dealerCard = random.choice(cards)\n",
    "        #[EXECUTE THE PLAY() FUNCTION FOR EACH PLAYER USING THE DEALER CARD, AND PRINT OUT THE RESULTS]"
   ]
  },
  {
   "cell_type": "markdown",
   "metadata": {},
   "source": [
    "Next we will define a function that will check the balances of each player, and print out a message with the player's ID and their balance."
   ]
  },
  {
   "cell_type": "code",
   "execution_count": null,
   "metadata": {
    "collapsed": false
   },
   "outputs": [],
   "source": [
    "def checkBalances(players):\n",
    "    \n",
    "    for player in players:\n",
    "        #[PRINT OUT EACH PLAYER'S BALANCE BY USING EACH PLAYER'S ACCESSOR FUNCTIONS]"
   ]
  },
  {
   "cell_type": "markdown",
   "metadata": {},
   "source": [
    "Now we are ready to start the game. First we create an empy list to store the collection of players in the game."
   ]
  },
  {
   "cell_type": "code",
   "execution_count": null,
   "metadata": {
    "collapsed": true
   },
   "outputs": [],
   "source": [
    "players = [] "
   ]
  },
  {
   "cell_type": "markdown",
   "metadata": {},
   "source": [
    "Then we create a loop that will run a certain number of times, each time creating a player with a unique ID and a starting balance. Each player should be appended to the empty list, which will store all the players. In this case we pass the 'i' iterator of the loop as the player ID, and set a constant value of 500 for the starting balance."
   ]
  },
  {
   "cell_type": "code",
   "execution_count": null,
   "metadata": {
    "collapsed": false
   },
   "outputs": [],
   "source": [
    "for i in range(5):\n",
    "    players.append(Player(i, 500))"
   ]
  },
  {
   "cell_type": "markdown",
   "metadata": {},
   "source": [
    "Once the players are created, we will create a loop to run the game a certain amount of times. Each step of the loop should start with a print statement announcing the start of the game, and then call the `playHand()` function, passing as an input the list of players."
   ]
  },
  {
   "cell_type": "code",
   "execution_count": null,
   "metadata": {
    "collapsed": false
   },
   "outputs": [],
   "source": [
    "for i in range(10):\n",
    "    print ''\n",
    "    print 'start game ' + str(i)\n",
    "    playHand(players)"
   ]
  },
  {
   "cell_type": "markdown",
   "metadata": {},
   "source": [
    "Finally, we will analyze the results of the game by running the `'checkBalances()'` function and passing it our list of players."
   ]
  },
  {
   "cell_type": "code",
   "execution_count": null,
   "metadata": {
    "collapsed": false
   },
   "outputs": [],
   "source": [
    "print ''\n",
    "print 'game results:'\n",
    "checkBalances(players)"
   ]
  },
  {
   "cell_type": "markdown",
   "metadata": {},
   "source": [
    "Below is a version of the expected printout if you've done everything correctly (note that since the cards are chosen randomly the actual results will differ, but the structure should be the same). Once you finish the assignment please submit a pull request to the main dmc-2016 repo before the deadline."
   ]
  },
  {
   "cell_type": "markdown",
   "metadata": {},
   "source": [
    "```\n",
    "start game 0\n",
    "player 0 Lose, 4 vs 7\n",
    "player 1 Win, 2 vs 0\n",
    "player 2 Lose, 0 vs 4\n",
    "player 3 Win, 7 vs 2\n",
    "player 4 Win, 5 vs 0\n",
    "\n",
    "start game 1\n",
    "player 0 Win, 1 vs 0\n",
    "player 1 Lose, 1 vs 5\n",
    "player 2 Lose, 6 vs 9\n",
    "player 3 Lose, 1 vs 8\n",
    "player 4 Lose, 0 vs 9\n",
    "\n",
    "start game 2\n",
    "player 0 Win, 3 vs 3\n",
    "player 1 Lose, 0 vs 2\n",
    "player 2 Win, 9 vs 6\n",
    "player 3 Win, 8 vs 7\n",
    "player 4 Win, 8 vs 6\n",
    "\n",
    "start game 3\n",
    "player 0 Win, 9 vs 7\n",
    "player 1 Lose, 7 vs 8\n",
    "player 2 Lose, 2 vs 3\n",
    "player 3 Lose, 0 vs 8\n",
    "player 4 Lose, 0 vs 6\n",
    "\n",
    "start game 4\n",
    "player 0 Win, 7 vs 4\n",
    "player 1 Win, 3 vs 0\n",
    "player 2 Win, 8 vs 5\n",
    "player 3 Win, 2 vs 1\n",
    "player 4 Lose, 4 vs 7\n",
    "\n",
    "start game 5\n",
    "player 0 Lose, 2 vs 8\n",
    "player 1 Lose, 4 vs 6\n",
    "player 2 Win, 2 vs 0\n",
    "player 3 Lose, 4 vs 5\n",
    "player 4 Lose, 3 vs 8\n",
    "\n",
    "start game 6\n",
    "player 0 Lose, 3 vs 6\n",
    "player 1 Win, 8 vs 0\n",
    "player 2 Win, 5 vs 5\n",
    "player 3 Lose, 2 vs 6\n",
    "player 4 Win, 8 vs 7\n",
    "\n",
    "start game 7\n",
    "player 0 Lose, 0 vs 9\n",
    "player 1 Lose, 6 vs 8\n",
    "player 2 Lose, 1 vs 9\n",
    "player 3 Lose, 4 vs 8\n",
    "player 4 Win, 9 vs 8\n",
    "\n",
    "start game 8\n",
    "player 0 Lose, 1 vs 8\n",
    "player 1 Lose, 3 vs 9\n",
    "player 2 Win, 5 vs 4\n",
    "player 3 Win, 6 vs 2\n",
    "player 4 Win, 3 vs 0\n",
    "\n",
    "start game 9\n",
    "player 0 Lose, 5 vs 6\n",
    "player 1 Win, 6 vs 1\n",
    "player 2 Lose, 8 vs 9\n",
    "player 3 Lose, 3 vs 9\n",
    "player 4 Win, 7 vs 5\n",
    "\n",
    "game results:\n",
    "player 0 has $400 left.\n",
    "player 1 has $400 left.\n",
    "player 2 has $500 left.\n",
    "player 3 has $400 left.\n",
    "player 4 has $600 left.\n",
    "```"
   ]
  }
 ],
 "metadata": {
  "kernelspec": {
   "display_name": "Python 2",
   "language": "python",
   "name": "python2"
  },
  "language_info": {
   "codemirror_mode": {
    "name": "ipython",
    "version": 2
   },
   "file_extension": ".py",
   "mimetype": "text/x-python",
   "name": "python",
   "nbconvert_exporter": "python",
   "pygments_lexer": "ipython2",
   "version": "2.7.12"
  }
 },
 "nbformat": 4,
 "nbformat_minor": 0
}
